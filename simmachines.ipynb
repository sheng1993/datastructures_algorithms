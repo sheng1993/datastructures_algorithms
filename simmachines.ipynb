{
 "cells": [
  {
   "cell_type": "code",
   "execution_count": 1,
   "metadata": {
    "collapsed": true
   },
   "outputs": [],
   "source": [
    "import sframe as sf"
   ]
  },
  {
   "cell_type": "code",
   "execution_count": 2,
   "metadata": {},
   "outputs": [
    {
     "name": "stderr",
     "output_type": "stream",
     "text": [
      "[INFO] sframe.cython.cy_server: SFrame v2.1 started. Logging /tmp/sframe_server_1493658986.log\n"
     ]
    },
    {
     "name": "stdout",
     "output_type": "stream",
     "text": [
      "------------------------------------------------------\nInferred types from first 100 line(s) of file as \ncolumn_type_hints=[str,str,str]\nIf parsing fails due to incorrect types, you can correct\nthe inferred type list above and pass it to read_csv in\nthe column_type_hints argument\n------------------------------------------------------\n"
     ]
    },
    {
     "data": {
      "text/html": [
       "<pre>Finished parsing file /home/slin/workspace/Coursera/datastructures_algorithms/artistToGaguiel.csv</pre>"
      ],
      "text/plain": [
       "<pre>Finished parsing file /home/slin/workspace/Coursera/datastructures_algorithms/artistToGaguiel.csv</pre>"
      ]
     },
     "execution_count": 0,
     "metadata": {},
     "output_type": "execute_result"
    },
    {
     "data": {
      "text/html": [
       "<pre>Parsing completed. Parsed 20462 lines in 0.243423 secs.</pre>"
      ],
      "text/plain": [
       "<pre>Parsing completed. Parsed 20462 lines in 0.243423 secs.</pre>"
      ]
     },
     "execution_count": 0,
     "metadata": {},
     "output_type": "execute_result"
    }
   ],
   "source": [
    "data = sf.SFrame.read_csv('artistToGaguiel.csv', delimiter='\\t', header=False)"
   ]
  },
  {
   "cell_type": "code",
   "execution_count": 3,
   "metadata": {},
   "outputs": [
    {
     "data": {
      "text/html": [
       "<div style=\"max-height:1000px;max-width:1500px;overflow:auto;\"><table frame=\"box\" rules=\"cols\">\n",
       "    <tr>\n",
       "        <th style=\"padding-left: 1em; padding-right: 1em; text-align: center\">ID</th>\n",
       "        <th style=\"padding-left: 1em; padding-right: 1em; text-align: center\">ITEMS</th>\n",
       "        <th style=\"padding-left: 1em; padding-right: 1em; text-align: center\">WEIGHTS</th>\n",
       "    </tr>\n",
       "    <tr>\n",
       "        <td style=\"padding-left: 1em; padding-right: 1em; text-align: center; vertical-align: top\">00000c289a1829a808ac09c00<br>daf10bc3c4e223b ...</td>\n",
       "        <td style=\"padding-left: 1em; padding-right: 1em; text-align: center; vertical-align: top\">betty blowtorch;die<br>Ärzte;melissa etherid ...</td>\n",
       "        <td style=\"padding-left: 1em; padding-right: 1em; text-align: center; vertical-align: top\">2137;1099;897;717;706;691<br>;545;507;424;403;393; ...</td>\n",
       "    </tr>\n",
       "    <tr>\n",
       "        <td style=\"padding-left: 1em; padding-right: 1em; text-align: center; vertical-align: top\">00001411dc427966b17297bf4<br>d69e7e193135d89 ...</td>\n",
       "        <td style=\"padding-left: 1em; padding-right: 1em; text-align: center; vertical-align: top\">the most serene<br>republic;stars;broken ...</td>\n",
       "        <td style=\"padding-left: 1em; padding-right: 1em; text-align: center; vertical-align: top\">12763;8192;6413;5361;5120<br>;5110;4811;4283;4143; ...</td>\n",
       "    </tr>\n",
       "    <tr>\n",
       "        <td style=\"padding-left: 1em; padding-right: 1em; text-align: center; vertical-align: top\">00004d2ac9316e22dc007ab22<br>43d6fcb239e707d ...</td>\n",
       "        <td style=\"padding-left: 1em; padding-right: 1em; text-align: center; vertical-align: top\">current 93;coil;andrew<br>liles;six organs of ...</td>\n",
       "        <td style=\"padding-left: 1em; padding-right: 1em; text-align: center; vertical-align: top\">853;567;248;242;225;224;2<br>04;193;167;137;135;12 ...</td>\n",
       "    </tr>\n",
       "    <tr>\n",
       "        <td style=\"padding-left: 1em; padding-right: 1em; text-align: center; vertical-align: top\">000063d3fe1cf2ba248b9e3c3<br>f0334845a27a6bf ...</td>\n",
       "        <td style=\"padding-left: 1em; padding-right: 1em; text-align: center; vertical-align: top\">opeth;cannibal<br>corpse;elis;amoral;amon ...</td>\n",
       "        <td style=\"padding-left: 1em; padding-right: 1em; text-align: center; vertical-align: top\">106;48;31;29;26;24;17;16;<br>16;14;14;14;13;12;11; ...</td>\n",
       "    </tr>\n",
       "    <tr>\n",
       "        <td style=\"padding-left: 1em; padding-right: 1em; text-align: center; vertical-align: top\">00007a47085b9aab8af55f52e<br>c8846ac479ac4fe ...</td>\n",
       "        <td style=\"padding-left: 1em; padding-right: 1em; text-align: center; vertical-align: top\">devendra banhart;boards<br>of canada;cocorosie;a ...</td>\n",
       "        <td style=\"padding-left: 1em; padding-right: 1em; text-align: center; vertical-align: top\">456;407;386;213;203;189;1<br>84;178;162;149;144;14 ...</td>\n",
       "    </tr>\n",
       "    <tr>\n",
       "        <td style=\"padding-left: 1em; padding-right: 1em; text-align: center; vertical-align: top\">0000c176103e538d5c9828e69<br>5fed4f7ae42dd01 ...</td>\n",
       "        <td style=\"padding-left: 1em; padding-right: 1em; text-align: center; vertical-align: top\">radiohead;the hold<br>steady;mogwai;boards of ...</td>\n",
       "        <td style=\"padding-left: 1em; padding-right: 1em; text-align: center; vertical-align: top\">2417;1955;1480;1115;1094;<br>1039;1022;944;763;754 ...</td>\n",
       "    </tr>\n",
       "    <tr>\n",
       "        <td style=\"padding-left: 1em; padding-right: 1em; text-align: center; vertical-align: top\">0000ee7dd906373efa37f4e11<br>85bfe1e3f8695ae ...</td>\n",
       "        <td style=\"padding-left: 1em; padding-right: 1em; text-align: center; vertical-align: top\">stam1na;dream theater;ac/<br>dc;metallica;iron ...</td>\n",
       "        <td style=\"padding-left: 1em; padding-right: 1em; text-align: center; vertical-align: top\">758;572;554;473;471;447;2<br>55;247;244;227;189;16 ...</td>\n",
       "    </tr>\n",
       "    <tr>\n",
       "        <td style=\"padding-left: 1em; padding-right: 1em; text-align: center; vertical-align: top\">0000ef373bbd0d89ce796abae<br>961f2705e8c1faf ...</td>\n",
       "        <td style=\"padding-left: 1em; padding-right: 1em; text-align: center; vertical-align: top\">pin;feel;elton<br>john;orgy;brandy;pet  ...</td>\n",
       "        <td style=\"padding-left: 1em; padding-right: 1em; text-align: center; vertical-align: top\">421;401;140;128;105;101;1<br>01;97;95;85;79;76;73; ...</td>\n",
       "    </tr>\n",
       "    <tr>\n",
       "        <td style=\"padding-left: 1em; padding-right: 1em; text-align: center; vertical-align: top\">0000f687d4fe9c1ed49620fbc<br>5ed5b0d7798ea20 ...</td>\n",
       "        <td style=\"padding-left: 1em; padding-right: 1em; text-align: center; vertical-align: top\">black eyed peas;nelly<br>furtado;antonio ...</td>\n",
       "        <td style=\"padding-left: 1em; padding-right: 1em; text-align: center; vertical-align: top\">12;11;10;10;10;9;8;7;7;7;<br>6;6;6;5;5;5;5;5;5;5;5 ...</td>\n",
       "    </tr>\n",
       "    <tr>\n",
       "        <td style=\"padding-left: 1em; padding-right: 1em; text-align: center; vertical-align: top\">0001399387da41d557219578f<br>b08b12afa25ab67 ...</td>\n",
       "        <td style=\"padding-left: 1em; padding-right: 1em; text-align: center; vertical-align: top\">blink-182;dub fx;box car<br>racer;zebrahead;paul ...</td>\n",
       "        <td style=\"padding-left: 1em; padding-right: 1em; text-align: center; vertical-align: top\">3366;1255;1060;699;419;39<br>7;391;391;374;305;263 ...</td>\n",
       "    </tr>\n",
       "</table>\n",
       "[20462 rows x 3 columns]<br/>Note: Only the head of the SFrame is printed.<br/>You can use print_rows(num_rows=m, num_columns=n) to print more rows and columns.\n",
       "</div>"
      ],
      "text/plain": [
       "<div style=\"max-height:1000px;max-width:1500px;overflow:auto;\"><table frame=\"box\" rules=\"cols\">\n",
       "    <tr>\n",
       "        <th style=\"padding-left: 1em; padding-right: 1em; text-align: center\">ID</th>\n",
       "        <th style=\"padding-left: 1em; padding-right: 1em; text-align: center\">ITEMS</th>\n",
       "        <th style=\"padding-left: 1em; padding-right: 1em; text-align: center\">WEIGHTS</th>\n",
       "    </tr>\n",
       "    <tr>\n",
       "        <td style=\"padding-left: 1em; padding-right: 1em; text-align: center; vertical-align: top\">00000c289a1829a808ac09c00<br>daf10bc3c4e223b ...</td>\n",
       "        <td style=\"padding-left: 1em; padding-right: 1em; text-align: center; vertical-align: top\">betty blowtorch;die<br>Ärzte;melissa etherid ...</td>\n",
       "        <td style=\"padding-left: 1em; padding-right: 1em; text-align: center; vertical-align: top\">2137;1099;897;717;706;691<br>;545;507;424;403;393; ...</td>\n",
       "    </tr>\n",
       "    <tr>\n",
       "        <td style=\"padding-left: 1em; padding-right: 1em; text-align: center; vertical-align: top\">00001411dc427966b17297bf4<br>d69e7e193135d89 ...</td>\n",
       "        <td style=\"padding-left: 1em; padding-right: 1em; text-align: center; vertical-align: top\">the most serene<br>republic;stars;broken ...</td>\n",
       "        <td style=\"padding-left: 1em; padding-right: 1em; text-align: center; vertical-align: top\">12763;8192;6413;5361;5120<br>;5110;4811;4283;4143; ...</td>\n",
       "    </tr>\n",
       "    <tr>\n",
       "        <td style=\"padding-left: 1em; padding-right: 1em; text-align: center; vertical-align: top\">00004d2ac9316e22dc007ab22<br>43d6fcb239e707d ...</td>\n",
       "        <td style=\"padding-left: 1em; padding-right: 1em; text-align: center; vertical-align: top\">current 93;coil;andrew<br>liles;six organs of ...</td>\n",
       "        <td style=\"padding-left: 1em; padding-right: 1em; text-align: center; vertical-align: top\">853;567;248;242;225;224;2<br>04;193;167;137;135;12 ...</td>\n",
       "    </tr>\n",
       "    <tr>\n",
       "        <td style=\"padding-left: 1em; padding-right: 1em; text-align: center; vertical-align: top\">000063d3fe1cf2ba248b9e3c3<br>f0334845a27a6bf ...</td>\n",
       "        <td style=\"padding-left: 1em; padding-right: 1em; text-align: center; vertical-align: top\">opeth;cannibal<br>corpse;elis;amoral;amon ...</td>\n",
       "        <td style=\"padding-left: 1em; padding-right: 1em; text-align: center; vertical-align: top\">106;48;31;29;26;24;17;16;<br>16;14;14;14;13;12;11; ...</td>\n",
       "    </tr>\n",
       "    <tr>\n",
       "        <td style=\"padding-left: 1em; padding-right: 1em; text-align: center; vertical-align: top\">00007a47085b9aab8af55f52e<br>c8846ac479ac4fe ...</td>\n",
       "        <td style=\"padding-left: 1em; padding-right: 1em; text-align: center; vertical-align: top\">devendra banhart;boards<br>of canada;cocorosie;a ...</td>\n",
       "        <td style=\"padding-left: 1em; padding-right: 1em; text-align: center; vertical-align: top\">456;407;386;213;203;189;1<br>84;178;162;149;144;14 ...</td>\n",
       "    </tr>\n",
       "    <tr>\n",
       "        <td style=\"padding-left: 1em; padding-right: 1em; text-align: center; vertical-align: top\">0000c176103e538d5c9828e69<br>5fed4f7ae42dd01 ...</td>\n",
       "        <td style=\"padding-left: 1em; padding-right: 1em; text-align: center; vertical-align: top\">radiohead;the hold<br>steady;mogwai;boards of ...</td>\n",
       "        <td style=\"padding-left: 1em; padding-right: 1em; text-align: center; vertical-align: top\">2417;1955;1480;1115;1094;<br>1039;1022;944;763;754 ...</td>\n",
       "    </tr>\n",
       "    <tr>\n",
       "        <td style=\"padding-left: 1em; padding-right: 1em; text-align: center; vertical-align: top\">0000ee7dd906373efa37f4e11<br>85bfe1e3f8695ae ...</td>\n",
       "        <td style=\"padding-left: 1em; padding-right: 1em; text-align: center; vertical-align: top\">stam1na;dream theater;ac/<br>dc;metallica;iron ...</td>\n",
       "        <td style=\"padding-left: 1em; padding-right: 1em; text-align: center; vertical-align: top\">758;572;554;473;471;447;2<br>55;247;244;227;189;16 ...</td>\n",
       "    </tr>\n",
       "    <tr>\n",
       "        <td style=\"padding-left: 1em; padding-right: 1em; text-align: center; vertical-align: top\">0000ef373bbd0d89ce796abae<br>961f2705e8c1faf ...</td>\n",
       "        <td style=\"padding-left: 1em; padding-right: 1em; text-align: center; vertical-align: top\">pin;feel;elton<br>john;orgy;brandy;pet  ...</td>\n",
       "        <td style=\"padding-left: 1em; padding-right: 1em; text-align: center; vertical-align: top\">421;401;140;128;105;101;1<br>01;97;95;85;79;76;73; ...</td>\n",
       "    </tr>\n",
       "    <tr>\n",
       "        <td style=\"padding-left: 1em; padding-right: 1em; text-align: center; vertical-align: top\">0000f687d4fe9c1ed49620fbc<br>5ed5b0d7798ea20 ...</td>\n",
       "        <td style=\"padding-left: 1em; padding-right: 1em; text-align: center; vertical-align: top\">black eyed peas;nelly<br>furtado;antonio ...</td>\n",
       "        <td style=\"padding-left: 1em; padding-right: 1em; text-align: center; vertical-align: top\">12;11;10;10;10;9;8;7;7;7;<br>6;6;6;5;5;5;5;5;5;5;5 ...</td>\n",
       "    </tr>\n",
       "    <tr>\n",
       "        <td style=\"padding-left: 1em; padding-right: 1em; text-align: center; vertical-align: top\">0001399387da41d557219578f<br>b08b12afa25ab67 ...</td>\n",
       "        <td style=\"padding-left: 1em; padding-right: 1em; text-align: center; vertical-align: top\">blink-182;dub fx;box car<br>racer;zebrahead;paul ...</td>\n",
       "        <td style=\"padding-left: 1em; padding-right: 1em; text-align: center; vertical-align: top\">3366;1255;1060;699;419;39<br>7;391;391;374;305;263 ...</td>\n",
       "    </tr>\n",
       "</table>\n",
       "[20462 rows x 3 columns]<br/>Note: Only the head of the SFrame is printed.<br/>You can use print_rows(num_rows=m, num_columns=n) to print more rows and columns.\n",
       "</div>"
      ]
     },
     "execution_count": 3,
     "metadata": {},
     "output_type": "execute_result"
    }
   ],
   "source": [
    "data.rename({'X1': 'ID', 'X2': 'ITEMS', 'X3': 'WEIGHTS'})"
   ]
  },
  {
   "cell_type": "code",
   "execution_count": 4,
   "metadata": {},
   "outputs": [],
   "source": [
    "data['item_weight'] = data['ITEMS', 'WEIGHTS'].apply(lambda row: dict(zip(row['ITEMS'].split(';'), map(int, row['WEIGHTS'].split(';')))))"
   ]
  },
  {
   "cell_type": "code",
   "execution_count": 5,
   "metadata": {},
   "outputs": [],
   "source": [
    "#   Get count for 'the beatles in dataset\n",
    "data['the_beatles_count'] = data['item_weight'].apply(lambda x: x['the beatles'] if 'the beatles' in x else 0)"
   ]
  },
  {
   "cell_type": "code",
   "execution_count": 6,
   "metadata": {
    "collapsed": false
   },
   "outputs": [
    {
     "data": {
      "text/plain": [
       "dtype: str\nRows: 10\n['0033ee7378661b88b245b1f67cc622ff63a51061', '0c4541503dd8f5b067976f40edc09d8c2a2322a4', '0de2759e5b8d1abb6fb7604230c07970da79ee8e', '03e7b02c10f651675001a268c6aae38f1668cee2', '0954e77dc1dafca788709611f895d270cfdfa5c8', '0d9f98701431e4c005ab76a472c28a274c21b015', '0481c9623e27a7d3f236440261d77d7753353f21', '0715e4b972ab477545ea2093a91f7fcb71420c4d', '01e19917350af651576cba8c7b4158ce389ae319', '0c4e5f8252f31afbf7270c42ceedeec36e7b54e0']"
      ]
     },
     "execution_count": 6,
     "metadata": {},
     "output_type": "execute_result"
    }
   ],
   "source": [
    "#   Top 'the beatles' users\n",
    "data.topk('the_beatles_count', k=10)['ID']"
   ]
  },
  {
   "cell_type": "code",
   "execution_count": 7,
   "metadata": {},
   "outputs": [],
   "source": [
    "bands = set()\n",
    "\n",
    "\n",
    "def get_all_bands(x):\n",
    "    for band in x.keys():\n",
    "        bands.add(band)\n",
    "    return 1"
   ]
  },
  {
   "cell_type": "code",
   "execution_count": 8,
   "metadata": {},
   "outputs": [
    {
     "data": {
      "text/plain": [
       "dtype: int\nRows: 20462\n[1, 1, 1, 1, 1, 1, 1, 1, 1, 1, 1, 1, 1, 1, 1, 1, 1, 1, 1, 1, 1, 1, 1, 1, 1, 1, 1, 1, 1, 1, 1, 1, 1, 1, 1, 1, 1, 1, 1, 1, 1, 1, 1, 1, 1, 1, 1, 1, 1, 1, 1, 1, 1, 1, 1, 1, 1, 1, 1, 1, 1, 1, 1, 1, 1, 1, 1, 1, 1, 1, 1, 1, 1, 1, 1, 1, 1, 1, 1, 1, 1, 1, 1, 1, 1, 1, 1, 1, 1, 1, 1, 1, 1, 1, 1, 1, 1, 1, 1, 1, ... ]"
      ]
     },
     "execution_count": 8,
     "metadata": {},
     "output_type": "execute_result"
    }
   ],
   "source": [
    "data['item_weight'].apply(lambda x: get_all_bands(x))"
   ]
  },
  {
   "cell_type": "code",
   "execution_count": 9,
   "metadata": {},
   "outputs": [
    {
     "data": {
      "text/plain": [
       "3013"
      ]
     },
     "execution_count": 9,
     "metadata": {},
     "output_type": "execute_result"
    }
   ],
   "source": [
    "len(bands)"
   ]
  },
  {
   "cell_type": "code",
   "execution_count": 10,
   "metadata": {},
   "outputs": [],
   "source": [
    "for band in bands:\n",
    "    data[band] = data['item_weight'].apply(lambda x: x[band] if band in x else 0)"
   ]
  },
  {
   "cell_type": "code",
   "execution_count": 19,
   "metadata": {},
   "outputs": [],
   "source": [
    "np_data = data[list(bands)].to_numpy()"
   ]
  },
  {
   "cell_type": "code",
   "execution_count": 21,
   "metadata": {},
   "outputs": [],
   "source": [
    "import numpy as np"
   ]
  },
  {
   "cell_type": "code",
   "execution_count": 27,
   "metadata": {},
   "outputs": [],
   "source": [
    "band_counts = np.sum(np_data, axis=0)"
   ]
  },
  {
   "cell_type": "code",
   "execution_count": 31,
   "metadata": {},
   "outputs": [],
   "source": [
    "max_index = np.argmax(band_counts)"
   ]
  },
  {
   "cell_type": "code",
   "execution_count": 32,
   "metadata": {},
   "outputs": [
    {
     "name": "stdout",
     "output_type": "stream",
     "text": [
      "the beatles\n1803713\n1803713\n"
     ]
    }
   ],
   "source": [
    "#   Best band in data set\n",
    "best_band = list(bands)[max_index]\n",
    "print(best_band)\n",
    "print(band_counts[max_index])\n",
    "print(data['the_beatles_count'].sum())"
   ]
  }
 ],
 "metadata": {
  "kernelspec": {
   "display_name": "Python 2",
   "language": "python",
   "name": "python2"
  },
  "language_info": {
   "codemirror_mode": {
    "name": "ipython",
    "version": 2.0
   },
   "file_extension": ".py",
   "mimetype": "text/x-python",
   "name": "python",
   "nbconvert_exporter": "python",
   "pygments_lexer": "ipython2",
   "version": "2.7.6"
  }
 },
 "nbformat": 4,
 "nbformat_minor": 0
}